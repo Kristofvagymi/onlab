{
 "cells": [
  {
   "cell_type": "markdown",
   "metadata": {},
   "source": [
    "# Web sraping tool"
   ]
  },
  {
   "cell_type": "markdown",
   "metadata": {},
   "source": [
    "### Import"
   ]
  },
  {
   "cell_type": "code",
   "execution_count": 14,
   "metadata": {},
   "outputs": [],
   "source": [
    "import urllib\n",
    "import requests\n",
    "from bs4 import BeautifulSoup\n",
    "import os\n",
    "from urllib3.exceptions import InsecureRequestWarning\n",
    "requests.packages.urllib3.disable_warnings(category=InsecureRequestWarning)"
   ]
  },
  {
   "cell_type": "markdown",
   "metadata": {},
   "source": [
    "### Declare 'global' variables"
   ]
  },
  {
   "cell_type": "code",
   "execution_count": 3,
   "metadata": {},
   "outputs": [],
   "source": [
    "# desktop user-agent\n",
    "USER_AGENT = \"Mozilla/5.0 (Windows NT 10.0; Win64; x64) AppleWebKit/537.36 (KHTML, like Gecko) Chrome/81.0.4044.129 Safari/537.36\"\n",
    "# mobile user-agent\n",
    "MOBILE_USER_AGENT = \"Mozilla/5.0 (Linux; Android 7.0; SM-G930V Build/NRD90M) AppleWebKit/537.36 (KHTML, like Gecko) Chrome/59.0.3071.125 Mobile Safari/537.36\""
   ]
  },
  {
   "cell_type": "code",
   "execution_count": 4,
   "metadata": {},
   "outputs": [],
   "source": [
    "headers = {\"user-agent\" : USER_AGENT}\n",
    "category = \"IT company\"\n",
    "search_keywords = ['IT companies california', 'IT companies silicon valley', 'IT companies mexico', 'IT companies paris']\n",
    "path = 'C:\\\\Users\\\\ivani\\\\source\\\\python\\\\msc_onlab1\\\\SW'"
   ]
  },
  {
   "cell_type": "markdown",
   "metadata": {},
   "source": [
    "### Method gives back {n} number of webpage urls and names<br>\n"
   ]
  },
  {
   "cell_type": "code",
   "execution_count": 22,
   "metadata": {},
   "outputs": [],
   "source": [
    "def get_firt_n_url(category, n): \n",
    "    headers = {\"user-agent\" : USER_AGENT}\n",
    "    results = []\n",
    "    \n",
    "    while len(list({r['link']:r for r in results}.values())) < n:\n",
    "        query = category.replace(' ', '+')\n",
    "        query_url = f\"https://google.com/search?q={query}&start=\" +str(len(results))\n",
    "        response = requests.get(query_url, headers=headers)\n",
    "        \n",
    "        if response.status_code == 200:\n",
    "            soup = BeautifulSoup(response.content, \"html.parser\")\n",
    "            \n",
    "        for g in soup.find_all('div', class_='r'):\n",
    "            anchors = g.find_all('a')\n",
    "            if anchors:\n",
    "                link = anchors[0]['href']\n",
    "                title = g.find('h3').text\n",
    "                item = {\n",
    "                    \"title\": title,\n",
    "                    \"link\": link\n",
    "                }\n",
    "                results.append(item)\n",
    "        print(category,'~',str( min( round(len(list({r['link']:r for r in results}.values()))/n, 2), 1.0) *100)+\"%\" )\n",
    "    return results"
   ]
  },
  {
   "cell_type": "markdown",
   "metadata": {},
   "source": [
    "### Iter on keywords"
   ]
  },
  {
   "cell_type": "code",
   "execution_count": 23,
   "metadata": {
    "scrolled": true
   },
   "outputs": [
    {
     "name": "stdout",
     "output_type": "stream",
     "text": [
      "IT companies california ~ 33.0%\n",
      "IT companies california ~ 67.0%\n",
      "IT companies california ~ 100.0%\n",
      "IT companies silicon valley ~ 33.0%\n",
      "IT companies silicon valley ~ 63.0%\n",
      "IT companies silicon valley ~ 97.0%\n",
      "IT companies silicon valley ~ 100.0%\n",
      "IT companies mexico ~ 33.0%\n",
      "IT companies mexico ~ 67.0%\n",
      "IT companies mexico ~ 100.0%\n",
      "IT companies paris ~ 30.0%\n",
      "IT companies paris ~ 60.0%\n",
      "IT companies paris ~ 87.0%\n",
      "IT companies paris ~ 100.0%\n"
     ]
    }
   ],
   "source": [
    "urls = []\n",
    "for keyword in search_keywords:\n",
    "    urls += get_firt_n_url(keyword, 30)"
   ]
  },
  {
   "cell_type": "markdown",
   "metadata": {},
   "source": [
    "### Create dir for html files"
   ]
  },
  {
   "cell_type": "code",
   "execution_count": 7,
   "metadata": {
    "scrolled": true
   },
   "outputs": [
    {
     "name": "stdout",
     "output_type": "stream",
     "text": [
      "Creation of the directory C:\\Users\\ivani\\source\\python\\msc_onlab1\\SW\\IT_company failed\n"
     ]
    }
   ],
   "source": [
    "dir_name = category.replace(' ', '_')\n",
    "path_end = f\"\\\\{dir_name}\"\n",
    "\n",
    "full_path = path + path_end\n",
    "try:\n",
    "    os.mkdir(full_path)\n",
    "except OSError:\n",
    "    print (\"Creation of the directory %s failed\" % full_path)\n",
    "else:\n",
    "    print (\"Successfully created the directory %s \" % full_path)"
   ]
  },
  {
   "cell_type": "markdown",
   "metadata": {},
   "source": [
    "### Select unique urls"
   ]
  },
  {
   "cell_type": "code",
   "execution_count": 10,
   "metadata": {},
   "outputs": [],
   "source": [
    "unique_pages = list({r['link']:r for r in urls}.values())"
   ]
  },
  {
   "cell_type": "markdown",
   "metadata": {},
   "source": [
    "### Download and save pages"
   ]
  },
  {
   "cell_type": "code",
   "execution_count": 16,
   "metadata": {
    "scrolled": true
   },
   "outputs": [],
   "source": [
    "for page, i in zip(unique_pages, range(1, len(unique_pages)+1)):\n",
    "    response = requests.get(page['link'], headers=headers, verify=False)\n",
    "    if response.status_code == 200:\n",
    "        soup = BeautifulSoup(response.content, \"html.parser\")\n",
    "        \n",
    "    with open(f\"{full_path}\\\\{path_end}{i}.html\", \"w\", encoding='utf-8') as file:\n",
    "        file.write(str(soup))"
   ]
  },
  {
   "cell_type": "code",
   "execution_count": null,
   "metadata": {},
   "outputs": [],
   "source": []
  }
 ],
 "metadata": {
  "kernelspec": {
   "display_name": "Python 3",
   "language": "python",
   "name": "python3"
  },
  "language_info": {
   "codemirror_mode": {
    "name": "ipython",
    "version": 3
   },
   "file_extension": ".py",
   "mimetype": "text/x-python",
   "name": "python",
   "nbconvert_exporter": "python",
   "pygments_lexer": "ipython3",
   "version": "3.7.3"
  }
 },
 "nbformat": 4,
 "nbformat_minor": 2
}
