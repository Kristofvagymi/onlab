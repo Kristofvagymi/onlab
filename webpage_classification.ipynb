{
 "cells": [
  {
   "cell_type": "markdown",
   "metadata": {},
   "source": [
    "## Imports"
   ]
  },
  {
   "cell_type": "code",
   "execution_count": 1,
   "metadata": {},
   "outputs": [],
   "source": [
    "import urllib\n",
    "import requests\n",
    "from bs4 import BeautifulSoup\n",
    "import re\n",
    "import os\n",
    "import pandas as pd\n",
    "\n",
    "from sklearn.feature_extraction.text import  CountVectorizer, TfidfVectorizer\n",
    "\n",
    "from sklearn import naive_bayes, metrics, model_selection, linear_model"
   ]
  },
  {
   "cell_type": "markdown",
   "metadata": {},
   "source": [
    "### Init 'global' variables"
   ]
  },
  {
   "cell_type": "code",
   "execution_count": 2,
   "metadata": {},
   "outputs": [],
   "source": [
    "#ignore_dir = ['IT_company']\n",
    "ignore_dir = []\n",
    "\n",
    "routes = os.listdir('./SW')\n",
    "routes = list(set(routes)-set(ignore_dir))\n",
    "\n",
    "categories = routes\n",
    "\n",
    "\n",
    "label_cat_dict = dict(zip(routes, range(0, len(routes))))"
   ]
  },
  {
   "cell_type": "markdown",
   "metadata": {},
   "source": [
    "### Create dataframe from webpage files"
   ]
  },
  {
   "cell_type": "code",
   "execution_count": 3,
   "metadata": {},
   "outputs": [],
   "source": [
    "def create_df(route, label):\n",
    "    pages_df = pd.DataFrame(columns=['document', 'category'])\n",
    "    files = os.listdir('./SW/'+route)\n",
    "    for file, i in zip(files, range(0, len(files))):\n",
    "        f = open('./SW/'+route + \"/\" + file, \"rt\", errors='ignore')\n",
    "        \n",
    "        page = f.read()\n",
    "        f.close()\n",
    "        soup_page = BeautifulSoup(page, \"html.parser\")\n",
    "        page_content = soup_page.get_text()\n",
    "        cleaned_page_content = re.sub(\"\\W\",\" \",page_content)\n",
    "        cleaned_page_content = re.sub(r\" +\",\" \",cleaned_page_content)\n",
    "        pages_df.loc[i] = (cleaned_page_content, label)\n",
    "    return pages_df"
   ]
  },
  {
   "cell_type": "markdown",
   "metadata": {},
   "source": [
    "### Read the data from differenct directories"
   ]
  },
  {
   "cell_type": "code",
   "execution_count": 4,
   "metadata": {
    "scrolled": true
   },
   "outputs": [
    {
     "name": "stdout",
     "output_type": "stream",
     "text": [
      "IT_company -ready\n",
      "Goats -ready\n",
      "BioMedical -ready\n",
      "Sheep -ready\n",
      "Bands -ready\n"
     ]
    }
   ],
   "source": [
    "all_pages = pd.DataFrame(columns=['document', 'category', 'label'])\n",
    "\n",
    "train_x = pd.Series()\n",
    "valid_x = pd.Series()\n",
    "train_y = pd.Series()\n",
    "valid_y = pd.Series()\n",
    "\n",
    "for route, category in zip(routes, categories):\n",
    "    label = label_cat_dict[category]\n",
    "    pages_df = create_df(route, category)\n",
    "    pages_df['label'] =label\n",
    "    all_pages = all_pages.append(pages_df, ignore_index=True)\n",
    "    \n",
    "    train_x_, valid_x_, train_y_, valid_y_ = model_selection.train_test_split(pages_df['document'], pages_df['label'], test_size =  0.15)\n",
    "    \n",
    "    train_x = train_x.append(train_x_, ignore_index=True)\n",
    "    valid_x = valid_x.append(valid_x_, ignore_index=True)\n",
    "    train_y = train_y.append(train_y_, ignore_index=True)\n",
    "    valid_y = valid_y.append(valid_y_, ignore_index=True)\n",
    "    print(category, \"-ready\")"
   ]
  },
  {
   "cell_type": "markdown",
   "metadata": {},
   "source": [
    "### Word Count vectorizer"
   ]
  },
  {
   "cell_type": "code",
   "execution_count": 12,
   "metadata": {
    "scrolled": true
   },
   "outputs": [
    {
     "data": {
      "text/plain": [
       "CountVectorizer(analyzer='word', binary=False, decode_error='strict',\n",
       "        dtype=<class 'numpy.int64'>, encoding='utf-8', input='content',\n",
       "        lowercase=True, max_df=1.0, max_features=None, min_df=1,\n",
       "        ngram_range=(1, 1), preprocessor=None, stop_words=None,\n",
       "        strip_accents=None, token_pattern='\\\\w{1,}', tokenizer=None,\n",
       "        vocabulary=None)"
      ]
     },
     "execution_count": 12,
     "metadata": {},
     "output_type": "execute_result"
    }
   ],
   "source": [
    "count_vect = CountVectorizer(analyzer='word', token_pattern=r'\\w{1,}')\n",
    "count_vect.fit(all_pages['document'])"
   ]
  },
  {
   "cell_type": "code",
   "execution_count": 34,
   "metadata": {},
   "outputs": [],
   "source": [
    "xtrain_count = count_vect.transform(train_x)\n",
    "xvalid_count = count_vect.transform(valid_x)"
   ]
  },
  {
   "cell_type": "markdown",
   "metadata": {},
   "source": [
    "### TF-IDF vectorizer"
   ]
  },
  {
   "cell_type": "code",
   "execution_count": 35,
   "metadata": {},
   "outputs": [],
   "source": [
    "tfidf_vect = TfidfVectorizer(analyzer='word', token_pattern=r'\\w{1,}', max_features=5000)\n",
    "tfidf_vect.fit(all_pages['document'])\n",
    "xtrain_tfidf =  tfidf_vect.transform(train_x)\n",
    "xvalid_tfidf =  tfidf_vect.transform(valid_x)"
   ]
  },
  {
   "cell_type": "markdown",
   "metadata": {},
   "source": [
    "### Naiv Bayes - word count"
   ]
  },
  {
   "cell_type": "code",
   "execution_count": 41,
   "metadata": {},
   "outputs": [
    {
     "data": {
      "text/plain": [
       "0.8648648648648649"
      ]
     },
     "execution_count": 41,
     "metadata": {},
     "output_type": "execute_result"
    }
   ],
   "source": [
    "classifier = naive_bayes.MultinomialNB()\n",
    "\n",
    "classifier.fit(xtrain_count, train_y)\n",
    "\n",
    "predictions = classifier.predict(xvalid_count)\n",
    "\n",
    "metrics.accuracy_score(predictions, valid_y)"
   ]
  },
  {
   "cell_type": "markdown",
   "metadata": {},
   "source": [
    "### Naiv Bayes - TF-IDF"
   ]
  },
  {
   "cell_type": "code",
   "execution_count": 45,
   "metadata": {},
   "outputs": [
    {
     "data": {
      "text/plain": [
       "0.8513513513513513"
      ]
     },
     "execution_count": 45,
     "metadata": {},
     "output_type": "execute_result"
    }
   ],
   "source": [
    "classifier = naive_bayes.MultinomialNB()\n",
    "\n",
    "classifier.fit(xtrain_tfidf, train_y)\n",
    "\n",
    "predictions = classifier.predict(xvalid_tfidf)\n",
    "\n",
    "metrics.accuracy_score(predictions, valid_y)"
   ]
  },
  {
   "cell_type": "markdown",
   "metadata": {},
   "source": [
    "### Linear - word count"
   ]
  },
  {
   "cell_type": "code",
   "execution_count": 52,
   "metadata": {},
   "outputs": [
    {
     "data": {
      "text/plain": [
       "0.9324324324324325"
      ]
     },
     "execution_count": 52,
     "metadata": {},
     "output_type": "execute_result"
    }
   ],
   "source": [
    "classifier = linear_model.LogisticRegression(solver='liblinear',multi_class='auto')\n",
    "\n",
    "classifier.fit(xtrain_count, train_y)\n",
    "\n",
    "predictions = classifier.predict(xvalid_count)\n",
    "\n",
    "metrics.accuracy_score(predictions, valid_y)"
   ]
  },
  {
   "cell_type": "markdown",
   "metadata": {},
   "source": [
    "### Linear - TF-IDF"
   ]
  },
  {
   "cell_type": "code",
   "execution_count": 47,
   "metadata": {},
   "outputs": [
    {
     "data": {
      "text/plain": [
       "0.9459459459459459"
      ]
     },
     "execution_count": 47,
     "metadata": {},
     "output_type": "execute_result"
    }
   ],
   "source": [
    "classifier = linear_model.LogisticRegression(solver='lbfgs')\n",
    "\n",
    "classifier.fit(xtrain_tfidf, train_y)\n",
    "\n",
    "predictions = classifier.predict(xvalid_tfidf)\n",
    "\n",
    "metrics.accuracy_score(predictions, valid_y)"
   ]
  },
  {
   "cell_type": "markdown",
   "metadata": {},
   "source": [
    "### TLDR"
   ]
  },
  {
   "cell_type": "code",
   "execution_count": 65,
   "metadata": {},
   "outputs": [
    {
     "name": "stderr",
     "output_type": "stream",
     "text": [
      "[nltk_data] Downloading package stopwords to\n",
      "[nltk_data]     C:\\Users\\ivani\\AppData\\Roaming\\nltk_data...\n",
      "[nltk_data]   Package stopwords is already up-to-date!\n"
     ]
    }
   ],
   "source": [
    "import nltk\n",
    "from nltk.corpus import stopwords\n",
    "nltk.download('stopwords')\n",
    "import time\n",
    "import random"
   ]
  },
  {
   "cell_type": "code",
   "execution_count": 36,
   "metadata": {},
   "outputs": [
    {
     "name": "stdout",
     "output_type": "stream",
     "text": [
      "470 expected finish: Sun May 17 01:58:47 2020\r"
     ]
    }
   ],
   "source": [
    "word_dict = {}\n",
    "start = time.time()\n",
    "for index, row in all_pages.iterrows():\n",
    "    words = re.split(' ', row['document'])\n",
    "    \n",
    "    for word in words:\n",
    "        word = word.lower()\n",
    "        if word not in set(stopwords.words('english')) and len(word) > 2:\n",
    "            if word not in word_dict:\n",
    "                word_dict[word] = 1\n",
    "            else:\n",
    "                word_dict[word] = word_dict[word] + 1\n",
    "    if index % 10 == 0:\n",
    "        now = time.time()\n",
    "        percent_ready = (index / all_pages.shape[0]) + 0.0000001\n",
    "        print(index,'expected finish:', time.ctime(start + ((now-start) / percent_ready)), end='\\r')"
   ]
  },
  {
   "cell_type": "code",
   "execution_count": 55,
   "metadata": {},
   "outputs": [],
   "source": [
    "word_dict_list = sorted(word_dict.items(), key=lambda x: x[1], reverse = True)\n",
    "words_shrinked = word_dict_list[0:6000]\n",
    "word_list = [w for (w,n) in words_shrinked]"
   ]
  },
  {
   "cell_type": "code",
   "execution_count": 56,
   "metadata": {},
   "outputs": [],
   "source": [
    "def document_features(document):\n",
    "    document_words = set(re.split(' ',document))\n",
    "    features = {}\n",
    "    for word in word_list:\n",
    "        features['contains({})'.format(word)] = (word in document_words)\n",
    "    return features"
   ]
  },
  {
   "cell_type": "code",
   "execution_count": 59,
   "metadata": {},
   "outputs": [],
   "source": [
    "train_set = []\n",
    "for ind, row in all_pages.iterrows():\n",
    "    feature = (document_features(row['document']), row['category'])\n",
    "    train_set.append(feature)\n",
    "random.shuffle(train_set)"
   ]
  },
  {
   "cell_type": "code",
   "execution_count": 68,
   "metadata": {},
   "outputs": [],
   "source": [
    "classifier_nb = nltk.NaiveBayesClassifier.train(train_set[0:400])"
   ]
  },
  {
   "cell_type": "code",
   "execution_count": 69,
   "metadata": {
    "scrolled": true
   },
   "outputs": [
    {
     "data": {
      "text/plain": [
       "0.6986301369863014"
      ]
     },
     "execution_count": 69,
     "metadata": {},
     "output_type": "execute_result"
    }
   ],
   "source": [
    "nltk.classify.accuracy(classifier_nb, train_set[400:len(train_set)])"
   ]
  },
  {
   "cell_type": "code",
   "execution_count": 70,
   "metadata": {},
   "outputs": [
    {
     "name": "stdout",
     "output_type": "stream",
     "text": [
      "Most Informative Features\n",
      "          contains(mins) = True            Bands : IT_com =     74.0 : 1.0\n",
      "          contains(true) = True           IT_com : BioMed =     66.1 : 1.0\n",
      "        contains(script) = True           IT_com : BioMed =     61.4 : 1.0\n",
      "       contains(display) = True           IT_com : BioMed =     55.3 : 1.0\n",
      "    contains(background) = True           IT_com : BioMed =     54.6 : 1.0\n",
      "         contains(media) = True           IT_com : BioMed =     53.3 : 1.0\n",
      "        contains(global) = True           IT_com : BioMed =     52.6 : 1.0\n",
      "        contains(center) = True           IT_com : BioMed =     50.5 : 1.0\n",
      "         contains(songs) = True            Bands : IT_com =     48.2 : 1.0\n",
      "          contains(open) = True           IT_com : BioMed =     47.8 : 1.0\n",
      "         contains(ready) = True           IT_com : BioMed =     47.1 : 1.0\n",
      "          contains(head) = True           IT_com : BioMed =     46.5 : 1.0\n",
      "          contains(song) = True            Bands : IT_com =     44.4 : 1.0\n",
      "        contains(active) = True           IT_com : BioMed =     43.8 : 1.0\n",
      "           contains(end) = True           IT_com : BioMed =     43.8 : 1.0\n",
      "          contains(span) = True           IT_com : BioMed =     43.8 : 1.0\n",
      "           contains(600) = True           IT_com : BioMed =     43.1 : 1.0\n",
      "         contains(apply) = True           IT_com : BioMed =     43.1 : 1.0\n",
      "         contains(class) = True           IT_com : BioMed =     43.1 : 1.0\n",
      "        contains(window) = True           IT_com : BioMed =     42.1 : 1.0\n",
      "          contains(item) = True           IT_com : BioMed =     40.4 : 1.0\n",
      "      contains(document) = True           IT_com : Goats  =     40.1 : 1.0\n",
      "           contains(var) = True           IT_com : Goats  =     39.0 : 1.0\n",
      "      contains(required) = True           IT_com : BioMed =     38.3 : 1.0\n",
      "      contains(industry) = True           IT_com : BioMed =     38.3 : 1.0\n",
      "     contains(companies) = True           IT_com : Goats  =     38.2 : 1.0\n",
      "          contains(mins) = False          BioMed : Bands  =     37.2 : 1.0\n",
      "          contains(song) = False          BioMed : Bands  =     37.2 : 1.0\n",
      "    contains(experience) = True           IT_com : BioMed =     35.6 : 1.0\n",
      "        contains(screen) = True           IT_com : BioMed =     35.6 : 1.0\n",
      "         contains(value) = True           IT_com : BioMed =     34.4 : 1.0\n",
      "      contains(function) = True           IT_com : Sheep  =     34.3 : 1.0\n",
      "      contains(location) = True           IT_com : Goats  =     33.6 : 1.0\n",
      "        contains(domain) = True           IT_com : BioMed =     33.6 : 1.0\n",
      "        contains(object) = True           IT_com : BioMed =     33.6 : 1.0\n",
      "          contains(code) = True           IT_com : BioMed =     33.6 : 1.0\n",
      "     contains(animation) = True           IT_com : BioMed =     33.6 : 1.0\n",
      "          contains(push) = True           IT_com : Bands  =     32.9 : 1.0\n",
      "       contains(already) = True           IT_com : BioMed =     32.9 : 1.0\n",
      "          contains(else) = True           IT_com : BioMed =     32.8 : 1.0\n",
      "         contains(space) = True           IT_com : BioMed =     32.2 : 1.0\n",
      "         contains(track) = True           IT_com : BioMed =     32.2 : 1.0\n",
      "       contains(company) = True           IT_com : BioMed =     32.0 : 1.0\n",
      "          contains(type) = True           IT_com : Sheep  =     31.7 : 1.0\n",
      "      contains(platform) = True           IT_com : BioMed =     31.5 : 1.0\n",
      "        contains(create) = True           IT_com : Goats  =     31.4 : 1.0\n",
      "         contains(clear) = True           IT_com : BioMed =     30.9 : 1.0\n",
      "     contains(arguments) = True           IT_com : Goats  =     30.6 : 1.0\n",
      "          contains(body) = True           IT_com : BioMed =     30.3 : 1.0\n",
      "     contains(prototype) = True           IT_com : BioMed =     30.2 : 1.0\n",
      "           contains(min) = True           IT_com : Bands  =     29.6 : 1.0\n",
      "    contains(transition) = True           IT_com : BioMed =     29.5 : 1.0\n",
      "        contains(search) = True           IT_com : Goats  =     29.5 : 1.0\n",
      "          contains(main) = True           IT_com : Goats  =     29.5 : 1.0\n",
      "           contains(100) = True           IT_com : BioMed =     29.2 : 1.0\n",
      "           contains(500) = True           IT_com : BioMed =     29.1 : 1.0\n",
      "          contains(base) = True           IT_com : BioMed =     28.8 : 1.0\n",
      "           contains(700) = True           IT_com : BioMed =     28.8 : 1.0\n",
      "        contains(status) = True           IT_com : BioMed =     28.8 : 1.0\n",
      "          contains(menu) = True           IT_com : BioMed =     28.8 : 1.0\n",
      "        contains(linear) = True           IT_com : BioMed =     28.8 : 1.0\n",
      "      contains(business) = True           IT_com : BioMed =     28.3 : 1.0\n",
      "          contains(team) = True           IT_com : BioMed =     28.2 : 1.0\n",
      "        contains(market) = True           IT_com : BioMed =     28.2 : 1.0\n",
      "         contains(scale) = True           IT_com : BioMed =     28.2 : 1.0\n",
      "         contains(touch) = True           IT_com : BioMed =     27.5 : 1.0\n",
      "           contains(top) = True           IT_com : Sheep  =     27.0 : 1.0\n",
      "         contains(click) = True           IT_com : Goats  =     26.8 : 1.0\n",
      "          contains(load) = True           IT_com : Goats  =     26.8 : 1.0\n",
      "         contains(index) = True           IT_com : Goats  =     26.4 : 1.0\n",
      "        contains(return) = True           IT_com : Sheep  =     26.4 : 1.0\n",
      "     contains(direction) = True           IT_com : BioMed =     26.1 : 1.0\n",
      "          contains(hide) = True           IT_com : BioMed =     26.1 : 1.0\n",
      "        contains(target) = True           IT_com : BioMed =     25.8 : 1.0\n",
      "        contains(length) = True           IT_com : Sheep  =     25.7 : 1.0\n",
      "           contains(120) = True           IT_com : BioMed =     25.4 : 1.0\n",
      "          contains(post) = True           IT_com : BioMed =     25.4 : 1.0\n",
      "         contains(start) = True           IT_com : Sheep  =     25.4 : 1.0\n",
      "      contains(position) = True           IT_com : Bands  =     25.4 : 1.0\n",
      "         contains(shift) = True           IT_com : BioMed =     24.8 : 1.0\n",
      "          contains(play) = True           IT_com : BioMed =     24.8 : 1.0\n",
      "          contains(none) = True           IT_com : Bands  =     24.7 : 1.0\n",
      "           contains(200) = True           IT_com : Goats  =     24.5 : 1.0\n",
      "           contains(box) = True           IT_com : BioMed =     24.2 : 1.0\n",
      "           contains(set) = True           IT_com : Sheep  =     24.2 : 1.0\n",
      "         contains(title) = True           IT_com : Sheep  =     24.2 : 1.0\n",
      "      contains(includes) = True           IT_com : Goats  =     24.1 : 1.0\n",
      "         contains(music) = True            Bands : Sheep  =     24.1 : 1.0\n",
      "       contains(initial) = True           IT_com : BioMed =     24.1 : 1.0\n",
      "          contains(test) = True           IT_com : BioMed =     23.8 : 1.0\n",
      "           contains(org) = True           IT_com : Goats  =     23.8 : 1.0\n",
      "           contains(300) = True           IT_com : Goats  =     23.8 : 1.0\n",
      "       contains(musical) = True            Bands : IT_com =     23.8 : 1.0\n",
      "           contains(gif) = True           IT_com : BioMed =     23.4 : 1.0\n",
      "        contains(strong) = True           IT_com : BioMed =     23.4 : 1.0\n",
      "       contains(million) = True           IT_com : BioMed =     23.4 : 1.0\n",
      "       contains(improve) = True           IT_com : BioMed =     23.4 : 1.0\n",
      "         contains(focus) = True           IT_com : Goats  =     23.4 : 1.0\n",
      "           contains(www) = True           IT_com : Goats  =     22.9 : 1.0\n",
      "       contains(playing) = True            Bands : BioMed =     22.8 : 1.0\n"
     ]
    }
   ],
   "source": [
    "classifier_nb.show_most_informative_features(100)"
   ]
  },
  {
   "cell_type": "code",
   "execution_count": null,
   "metadata": {},
   "outputs": [],
   "source": []
  }
 ],
 "metadata": {
  "kernelspec": {
   "display_name": "Python 3",
   "language": "python",
   "name": "python3"
  },
  "language_info": {
   "codemirror_mode": {
    "name": "ipython",
    "version": 3
   },
   "file_extension": ".py",
   "mimetype": "text/x-python",
   "name": "python",
   "nbconvert_exporter": "python",
   "pygments_lexer": "ipython3",
   "version": "3.7.3"
  }
 },
 "nbformat": 4,
 "nbformat_minor": 2
}
