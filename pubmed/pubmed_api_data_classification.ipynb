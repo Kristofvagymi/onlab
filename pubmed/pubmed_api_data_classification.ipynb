{
 "cells": [
  {
   "cell_type": "markdown",
   "metadata": {},
   "source": [
    "## Imports"
   ]
  },
  {
   "cell_type": "code",
   "execution_count": 1,
   "metadata": {},
   "outputs": [
    {
     "name": "stderr",
     "output_type": "stream",
     "text": [
      "[nltk_data] Downloading package stopwords to\n",
      "[nltk_data]     C:\\Users\\ivani\\AppData\\Roaming\\nltk_data...\n",
      "[nltk_data]   Package stopwords is already up-to-date!\n"
     ]
    },
    {
     "data": {
      "text/plain": [
       "True"
      ]
     },
     "execution_count": 1,
     "metadata": {},
     "output_type": "execute_result"
    }
   ],
   "source": [
    "import urllib\n",
    "import requests\n",
    "from bs4 import BeautifulSoup\n",
    "import re\n",
    "import os\n",
    "\n",
    "import warnings\n",
    "warnings.simplefilter(action='ignore', category=FutureWarning)\n",
    "\n",
    "import pandas as pd\n",
    "import numpy as np\n",
    "\n",
    "from sklearn.feature_extraction.text import  CountVectorizer, TfidfVectorizer\n",
    "from sklearn.utils import shuffle\n",
    "from sklearn import naive_bayes, metrics, model_selection, linear_model\n",
    "from sklearn.metrics import confusion_matrix\n",
    "\n",
    "import nltk\n",
    "from nltk.corpus import stopwords\n",
    "from nltk.stem import WordNetLemmatizer\n",
    "nltk.download('stopwords')"
   ]
  },
  {
   "cell_type": "markdown",
   "metadata": {},
   "source": [
    "### Init 'global' variables"
   ]
  },
  {
   "cell_type": "code",
   "execution_count": 2,
   "metadata": {},
   "outputs": [],
   "source": [
    "data_dir = './api_data'\n",
    "ignore_files = []\n",
    "data_files = os.listdir(data_dir)\n",
    "files = list(set(data_files)-set(ignore_files))\n",
    "\n",
    "categories = files\n",
    "\n",
    "predict_from = {'abstract': True, 'title': False, 'full_page': False}\n",
    "\n",
    "files_codes = dict(zip(files, range(0, len(files))))\n",
    "do_preproc = False"
   ]
  },
  {
   "cell_type": "code",
   "execution_count": 3,
   "metadata": {
    "scrolled": true
   },
   "outputs": [
    {
     "data": {
      "text/plain": [
       "{'asthma_articles.xml': 0,\n",
       " 'lungcancer_articles.xml': 1,\n",
       " 'cysticfibrosis_articles.xml': 2,\n",
       " 'acutebronchitis_articles.xml': 3,\n",
       " 'flu_articles.xml': 4,\n",
       " 'pneumonia_articles.xml': 5,\n",
       " 'COPD_articles.xml': 6}"
      ]
     },
     "execution_count": 3,
     "metadata": {},
     "output_type": "execute_result"
    }
   ],
   "source": [
    "files_codes"
   ]
  },
  {
   "cell_type": "markdown",
   "metadata": {},
   "source": [
    "### Create dataframe from webpage files"
   ]
  },
  {
   "cell_type": "code",
   "execution_count": 4,
   "metadata": {},
   "outputs": [],
   "source": [
    "def create_df(route, label):\n",
    "    pages_df = pd.DataFrame(columns=['document', 'category'])\n",
    "    f = open(route, \"rt\", errors='ignore')\n",
    "    articles = f.read()\n",
    "    f.close()\n",
    "    soup_atricles = BeautifulSoup(articles, 'xml')\n",
    "    article_list = soup_atricles.find_all('PubmedArticle')\n",
    "    for article, i in zip(article_list, range(0, len(article_list))):\n",
    "        extracted = ''\n",
    "        if predict_from['full_page']:\n",
    "            extracted = article.get_text()\n",
    "        elif predict_from['title']:\n",
    "            extracted = article.find('ArticleTitle').get_text()\n",
    "        elif predict_from['abstract']:\n",
    "            maybe_abstract = article.find(\"Abstract\")\n",
    "            if maybe_abstract:\n",
    "                extracted = maybe_abstract.get_text()\n",
    "        \n",
    "        extracted = re.sub(\"\\W\",\" \",extracted)\n",
    "        extracted = re.sub(r\" +\",\" \",extracted)\n",
    "        \n",
    "        pages_df.loc[i] = (extracted, label)\n",
    "    return pages_df"
   ]
  },
  {
   "cell_type": "markdown",
   "metadata": {},
   "source": [
    "### Read the data from differenct directories"
   ]
  },
  {
   "cell_type": "code",
   "execution_count": 5,
   "metadata": {},
   "outputs": [],
   "source": [
    "def preproc(document):\n",
    "    new_doc = ''\n",
    "    lemmatizer = WordNetLemmatizer() \n",
    "    for word in document.split(' '):\n",
    "        if word not in set(stopwords.words('english')) and len(word) > 0:\n",
    "            \n",
    "            word = lemmatizer.lemmatize(word)\n",
    "            new_doc += ' ' + word\n",
    "    return new_doc"
   ]
  },
  {
   "cell_type": "code",
   "execution_count": 6,
   "metadata": {
    "scrolled": true
   },
   "outputs": [
    {
     "name": "stdout",
     "output_type": "stream",
     "text": [
      "asthma -ready\n",
      "lungcancer -ready\n",
      "cysticfibrosis -ready\n",
      "acutebronchitis -ready\n",
      "flu -ready\n",
      "pneumonia -ready\n",
      "COPD -ready\n"
     ]
    }
   ],
   "source": [
    "all_pages = pd.DataFrame(columns=['document', 'category', 'label'])\n",
    "\n",
    "train_x = pd.Series()\n",
    "valid_x = pd.Series()\n",
    "train_y = pd.Series()\n",
    "valid_y = pd.Series()\n",
    "\n",
    "for file_name in files_codes:\n",
    "    category = file_name.split('_')[0]\n",
    "    code = files_codes[file_name]\n",
    "    \n",
    "    #Drop empty rows\n",
    "    pages_df = create_df(data_dir+f'/{file_name}', category)\n",
    "    pages_df.replace('', np.nan, inplace=True)\n",
    "    pages_df.dropna(subset=['document'], inplace=True)\n",
    "\n",
    "    pages_df['label'] =code\n",
    "    \n",
    "    all_pages = all_pages.append(pages_df, ignore_index=True)\n",
    "    \n",
    "    #Representative train-val sets\n",
    "    train_x_, valid_x_, train_y_, valid_y_ = model_selection.train_test_split(pages_df['document'], pages_df['label'], test_size =  0.15)\n",
    "    \n",
    "    #Append to main dataframe\n",
    "    train_x = train_x.append(train_x_, ignore_index=True)\n",
    "    valid_x = valid_x.append(valid_x_, ignore_index=True)\n",
    "    train_y = train_y.append(train_y_, ignore_index=True)\n",
    "    valid_y = valid_y.append(valid_y_, ignore_index=True)\n",
    "    print(category, \"-ready\")\n",
    "train_x, train_y = shuffle(train_x, train_y, random_state=42)\n",
    "valid_x, valid_y = shuffle(valid_x, valid_y, random_state=42)"
   ]
  },
  {
   "cell_type": "markdown",
   "metadata": {},
   "source": [
    "### Preproc before vectorization (optional)"
   ]
  },
  {
   "cell_type": "code",
   "execution_count": 23,
   "metadata": {},
   "outputs": [],
   "source": [
    "all_pages['proc'] = ''\n",
    "all_pages['proc'] = all_pages.apply(lambda x: preproc(x['document']), axis=1)"
   ]
  },
  {
   "cell_type": "code",
   "execution_count": 37,
   "metadata": {},
   "outputs": [],
   "source": [
    "train_x, valid_x, train_y, valid_y = model_selection.train_test_split(all_pages['proc'], all_pages['label'], test_size =  0.15)\n",
    "train_y = train_y.astype(int)\n",
    "valid_y = valid_y.astype(int)"
   ]
  },
  {
   "cell_type": "markdown",
   "metadata": {},
   "source": [
    "### How much data left"
   ]
  },
  {
   "cell_type": "code",
   "execution_count": 13,
   "metadata": {},
   "outputs": [],
   "source": [
    "all_pages['one'] = 1"
   ]
  },
  {
   "cell_type": "code",
   "execution_count": 14,
   "metadata": {},
   "outputs": [
    {
     "data": {
      "text/html": [
       "<div>\n",
       "<style scoped>\n",
       "    .dataframe tbody tr th:only-of-type {\n",
       "        vertical-align: middle;\n",
       "    }\n",
       "\n",
       "    .dataframe tbody tr th {\n",
       "        vertical-align: top;\n",
       "    }\n",
       "\n",
       "    .dataframe thead th {\n",
       "        text-align: right;\n",
       "    }\n",
       "</style>\n",
       "<table border=\"1\" class=\"dataframe\">\n",
       "  <thead>\n",
       "    <tr style=\"text-align: right;\">\n",
       "      <th></th>\n",
       "      <th>one</th>\n",
       "    </tr>\n",
       "    <tr>\n",
       "      <th>category</th>\n",
       "      <th></th>\n",
       "    </tr>\n",
       "  </thead>\n",
       "  <tbody>\n",
       "    <tr>\n",
       "      <th>COPD</th>\n",
       "      <td>890</td>\n",
       "    </tr>\n",
       "    <tr>\n",
       "      <th>acutebronchitis</th>\n",
       "      <td>929</td>\n",
       "    </tr>\n",
       "    <tr>\n",
       "      <th>asthma</th>\n",
       "      <td>850</td>\n",
       "    </tr>\n",
       "    <tr>\n",
       "      <th>cysticfibrosis</th>\n",
       "      <td>900</td>\n",
       "    </tr>\n",
       "    <tr>\n",
       "      <th>flu</th>\n",
       "      <td>937</td>\n",
       "    </tr>\n",
       "    <tr>\n",
       "      <th>lungcancer</th>\n",
       "      <td>930</td>\n",
       "    </tr>\n",
       "    <tr>\n",
       "      <th>pneumonia</th>\n",
       "      <td>771</td>\n",
       "    </tr>\n",
       "  </tbody>\n",
       "</table>\n",
       "</div>"
      ],
      "text/plain": [
       "                 one\n",
       "category            \n",
       "COPD             890\n",
       "acutebronchitis  929\n",
       "asthma           850\n",
       "cysticfibrosis   900\n",
       "flu              937\n",
       "lungcancer       930\n",
       "pneumonia        771"
      ]
     },
     "execution_count": 14,
     "metadata": {},
     "output_type": "execute_result"
    }
   ],
   "source": [
    "all_pages.groupby(['category']).sum()"
   ]
  },
  {
   "cell_type": "markdown",
   "metadata": {},
   "source": [
    "### Word Count vectorizer"
   ]
  },
  {
   "cell_type": "code",
   "execution_count": 7,
   "metadata": {
    "scrolled": true
   },
   "outputs": [
    {
     "data": {
      "text/plain": [
       "CountVectorizer(analyzer='word', binary=False, decode_error='strict',\n",
       "        dtype=<class 'numpy.int64'>, encoding='utf-8', input='content',\n",
       "        lowercase=True, max_df=1.0, max_features=None, min_df=1,\n",
       "        ngram_range=(1, 1), preprocessor=None, stop_words=None,\n",
       "        strip_accents=None, token_pattern='\\\\w{1,}', tokenizer=None,\n",
       "        vocabulary=None)"
      ]
     },
     "execution_count": 7,
     "metadata": {},
     "output_type": "execute_result"
    }
   ],
   "source": [
    "count_vect = CountVectorizer(analyzer='word', token_pattern=r'\\w{1,}')\n",
    "count_vect.fit(all_pages['document'])"
   ]
  },
  {
   "cell_type": "code",
   "execution_count": 8,
   "metadata": {},
   "outputs": [],
   "source": [
    "xtrain_count = count_vect.transform(train_x)\n",
    "xvalid_count = count_vect.transform(valid_x)"
   ]
  },
  {
   "cell_type": "code",
   "execution_count": 10,
   "metadata": {},
   "outputs": [
    {
     "data": {
      "text/plain": [
       "(5273, 38833)"
      ]
     },
     "execution_count": 10,
     "metadata": {},
     "output_type": "execute_result"
    }
   ],
   "source": [
    "xtrain_count.shape"
   ]
  },
  {
   "cell_type": "markdown",
   "metadata": {},
   "source": [
    "### TF-IDF vectorizer"
   ]
  },
  {
   "cell_type": "code",
   "execution_count": 12,
   "metadata": {},
   "outputs": [],
   "source": [
    "tfidf_vect = TfidfVectorizer(analyzer='word', token_pattern=r'\\w{1,}')\n",
    "tfidf_matrix = tfidf_vect.fit_transform(all_pages['document'])\n",
    "xtrain_tfidf =  tfidf_vect.transform(train_x)\n",
    "xvalid_tfidf =  tfidf_vect.transform(valid_x)"
   ]
  },
  {
   "cell_type": "markdown",
   "metadata": {},
   "source": [
    "### Naiv Bayes - word count"
   ]
  },
  {
   "cell_type": "code",
   "execution_count": 28,
   "metadata": {
    "scrolled": true
   },
   "outputs": [
    {
     "data": {
      "text/plain": [
       "0.7173447537473233"
      ]
     },
     "execution_count": 28,
     "metadata": {},
     "output_type": "execute_result"
    }
   ],
   "source": [
    "classifier = naive_bayes.MultinomialNB()\n",
    "\n",
    "classifier.fit(xtrain_count, train_y)\n",
    "\n",
    "predictions = classifier.predict(xvalid_count)\n",
    "\n",
    "metrics.accuracy_score(predictions, valid_y)"
   ]
  },
  {
   "cell_type": "code",
   "execution_count": 37,
   "metadata": {
    "scrolled": true
   },
   "outputs": [
    {
     "data": {
      "image/png": "[encoded data removed]",
      "text/plain": [
       "<Figure size 432x288 with 1 Axes>"
      ]
     },
     "metadata": {
      "needs_background": "light"
     },
     "output_type": "display_data"
    }
   ],
   "source": [
    "import matplotlib.pyplot as plt\n",
    "%matplotlib inline\n",
    "fig, ax = plt.subplots()\n",
    "\n",
    "# hide axes\n",
    "\n",
    "ax.axis('off')\n",
    "ax.axis('tight')\n",
    "labels = ['cystic', 'asthma', 'bronchitis', 'pneumonia', 'flu', 'COPD', 'lungcancer']\n",
    "ax.table(cellText=confusion_matrix(valid_y, predictions), colLabels=labels, rowLabels =labels,  loc='center')\n",
    "fig.tight_layout()\n",
    "\n",
    "plt.show()"
   ]
  },
  {
   "cell_type": "markdown",
   "metadata": {},
   "source": [
    "### Naiv Bayes - TF-IDF"
   ]
  },
  {
   "cell_type": "code",
   "execution_count": 30,
   "metadata": {},
   "outputs": [
    {
     "data": {
      "text/plain": [
       "0.702355460385439"
      ]
     },
     "execution_count": 30,
     "metadata": {},
     "output_type": "execute_result"
    }
   ],
   "source": [
    "classifier = naive_bayes.MultinomialNB()\n",
    "\n",
    "classifier.fit(xtrain_tfidf, train_y)\n",
    "\n",
    "predictions = classifier.predict(xvalid_tfidf)\n",
    "\n",
    "metrics.accuracy_score(predictions, valid_y)"
   ]
  },
  {
   "cell_type": "code",
   "execution_count": 26,
   "metadata": {
    "scrolled": true
   },
   "outputs": [
    {
     "data": {
      "text/plain": [
       "array([[ 49,   0,   3,   2,   2,   1,   6],\n",
       "       [  4, 114,   0,   0,   2,   2,   0],\n",
       "       [  5,   1,  97,   2,   2,   4,   5],\n",
       "       [ 24,   2,  15, 117,  10,  21,  13],\n",
       "       [  9,   2,   3,   7, 108,  19,   0],\n",
       "       [  2,   5,   0,   0,  13,  63,   2],\n",
       "       [ 35,  16,  17,  12,   4,   6, 108]], dtype=int64)"
      ]
     },
     "execution_count": 26,
     "metadata": {},
     "output_type": "execute_result"
    }
   ],
   "source": [
    "confusion_matrix(predictions, valid_y)"
   ]
  },
  {
   "cell_type": "markdown",
   "metadata": {},
   "source": [
    "### Linear - word count"
   ]
  },
  {
   "cell_type": "code",
   "execution_count": 34,
   "metadata": {},
   "outputs": [
    {
     "data": {
      "text/plain": [
       "0.7826552462526767"
      ]
     },
     "execution_count": 34,
     "metadata": {},
     "output_type": "execute_result"
    }
   ],
   "source": [
    "classifier = linear_model.LogisticRegression(solver='liblinear',multi_class='auto')\n",
    "\n",
    "classifier.fit(xtrain_count, train_y)\n",
    "\n",
    "predictions = classifier.predict(xvalid_count)\n",
    "\n",
    "metrics.accuracy_score(predictions, valid_y)"
   ]
  },
  {
   "cell_type": "code",
   "execution_count": 15,
   "metadata": {},
   "outputs": [
    {
     "data": {
      "text/plain": [
       "array([[117,   6,   2,   5,   2,  12,   2],\n",
       "       [  3,  83,   4,   1,   3,  22,   2],\n",
       "       [  1,   3, 115,   4,   3,   4,   3],\n",
       "       [  3,  11,   3,  83,   9,  10,   3],\n",
       "       [  3,   3,   5,   9, 116,   2,   2],\n",
       "       [  6,  18,   9,   6,   5,  82,   5],\n",
       "       [  2,   4,   2,   8,   3,   2, 123]], dtype=int64)"
      ]
     },
     "execution_count": 15,
     "metadata": {},
     "output_type": "execute_result"
    }
   ],
   "source": [
    "confusion_matrix(predictions, valid_y)"
   ]
  },
  {
   "cell_type": "markdown",
   "metadata": {},
   "source": [
    "### Linear - TF-IDF"
   ]
  },
  {
   "cell_type": "code",
   "execution_count": 36,
   "metadata": {},
   "outputs": [
    {
     "data": {
      "text/plain": [
       "0.8147751605995718"
      ]
     },
     "execution_count": 36,
     "metadata": {},
     "output_type": "execute_result"
    }
   ],
   "source": [
    "classifier = linear_model.LogisticRegression(solver='lbfgs')\n",
    "\n",
    "classifier.fit(xtrain_tfidf, train_y)\n",
    "\n",
    "predictions = classifier.predict(xvalid_tfidf)\n",
    "\n",
    "metrics.accuracy_score(predictions, valid_y)"
   ]
  },
  {
   "cell_type": "code",
   "execution_count": 17,
   "metadata": {},
   "outputs": [
    {
     "data": {
      "text/plain": [
       "array([[121,   4,   2,   4,   0,   8,   3],\n",
       "       [  2,  96,   6,   2,   2,  17,   1],\n",
       "       [  1,   5, 107,   7,   3,   5,   2],\n",
       "       [  1,   7,   2,  85,  10,  10,   2],\n",
       "       [  2,   1,   8,   8, 118,   1,   1],\n",
       "       [  5,  14,  15,   4,   3,  92,   4],\n",
       "       [  3,   1,   0,   6,   5,   1, 127]], dtype=int64)"
      ]
     },
     "execution_count": 17,
     "metadata": {},
     "output_type": "execute_result"
    }
   ],
   "source": [
    "confusion_matrix(predictions, valid_y)"
   ]
  },
  {
   "cell_type": "markdown",
   "metadata": {},
   "source": [
    "### NLTK library"
   ]
  },
  {
   "cell_type": "code",
   "execution_count": 51,
   "metadata": {
    "scrolled": true
   },
   "outputs": [
    {
     "name": "stderr",
     "output_type": "stream",
     "text": [
      "[nltk_data] Downloading package wordnet to\n",
      "[nltk_data]     C:\\Users\\ivani\\AppData\\Roaming\\nltk_data...\n",
      "[nltk_data]   Package wordnet is already up-to-date!\n"
     ]
    }
   ],
   "source": [
    "import nltk\n",
    "from nltk.stem import WordNetLemmatizer\n",
    "nltk.download('wordnet')\n",
    "import time\n",
    "import random"
   ]
  },
  {
   "cell_type": "code",
   "execution_count": 52,
   "metadata": {},
   "outputs": [
    {
     "data": {
      "text/plain": [
       "'expected finish:Wed May 27 14:09:34 2020'"
      ]
     },
     "metadata": {},
     "output_type": "display_data"
    }
   ],
   "source": [
    "word_count_dict = {}\n",
    "start = time.time()\n",
    "lemmatizer = WordNetLemmatizer() \n",
    "\n",
    "dp = display('Process started',display_id=True)\n",
    "for index, row in all_pages.iterrows():\n",
    "    words = re.split(' ', row['document'])\n",
    "    \n",
    "    for word in words:\n",
    "        word = word.lower()\n",
    "        if word not in set(stopwords.words('english')) and len(word) > 1:\n",
    "            word = lemmatizer.lemmatize(word)\n",
    "            if word not in word_count_dict:\n",
    "                word_count_dict[word] = 1\n",
    "            else:\n",
    "                word_count_dict[word] = word_count_dict[word] + 1\n",
    "    if index % 10 == 0:\n",
    "        now = time.time()\n",
    "        percent_ready = (index / all_pages.shape[0]) + 0.0000001\n",
    "        dp.update('expected finish:'+ time.ctime(start + ((now-start) / percent_ready)))"
   ]
  },
  {
   "cell_type": "code",
   "execution_count": 53,
   "metadata": {},
   "outputs": [],
   "source": [
    "word_dict_list = sorted(word_count_dict.items(), key=lambda x: x[1], reverse = True)\n",
    "words_shrinked = word_dict_list[0:6000]\n",
    "word_list = [w for (w,n) in words_shrinked]"
   ]
  },
  {
   "cell_type": "code",
   "execution_count": 54,
   "metadata": {
    "scrolled": true
   },
   "outputs": [
    {
     "data": {
      "text/plain": [
       "[('patient', 13439),\n",
       " ('study', 6693),\n",
       " ('disease', 6566),\n",
       " ('lung', 5326),\n",
       " ('cell', 4935),\n",
       " ('treatment', 4020),\n",
       " ('group', 3996),\n",
       " ('infection', 3872),\n",
       " ('asthma', 3700),\n",
       " ('respiratory', 3587),\n",
       " ('year', 3505),\n",
       " ('clinical', 3491),\n",
       " ('copd', 3166),\n",
       " ('associated', 3147),\n",
       " ('risk', 3145)]"
      ]
     },
     "execution_count": 54,
     "metadata": {},
     "output_type": "execute_result"
    }
   ],
   "source": [
    "words_shrinked[0:15]"
   ]
  },
  {
   "cell_type": "code",
   "execution_count": 55,
   "metadata": {},
   "outputs": [],
   "source": [
    "def document_features(document):\n",
    "    document_words = set(re.split(' ',document))\n",
    "    features = {}\n",
    "    for word in word_list:\n",
    "        features['contains({})'.format(word)] = (word in document_words)\n",
    "    return features"
   ]
  },
  {
   "cell_type": "code",
   "execution_count": 56,
   "metadata": {},
   "outputs": [],
   "source": [
    "train_set = []\n",
    "for ind, row in all_pages.iterrows():\n",
    "    feature = (document_features(row['document']), row['category'])\n",
    "    train_set.append(feature)\n",
    "random.shuffle(train_set)"
   ]
  },
  {
   "cell_type": "code",
   "execution_count": 57,
   "metadata": {},
   "outputs": [],
   "source": [
    "train_part = int(len(train_set)*0.85)"
   ]
  },
  {
   "cell_type": "code",
   "execution_count": 58,
   "metadata": {},
   "outputs": [],
   "source": [
    "classifier_nb = nltk.NaiveBayesClassifier.train(train_set[0:train_part])"
   ]
  },
  {
   "cell_type": "code",
   "execution_count": 59,
   "metadata": {},
   "outputs": [
    {
     "data": {
      "text/plain": [
       "0.6952789699570815"
      ]
     },
     "execution_count": 59,
     "metadata": {},
     "output_type": "execute_result"
    }
   ],
   "source": [
    "nltk.classify.accuracy(classifier_nb, train_set[train_part:len(train_set)])"
   ]
  },
  {
   "cell_type": "code",
   "execution_count": 61,
   "metadata": {},
   "outputs": [
    {
     "name": "stdout",
     "output_type": "stream",
     "text": [
      "Most Informative Features\n",
      "        contains(cystic) = True           cystic : flu    =    239.4 : 1.0\n",
      "    contains(bronchitis) = True           acuteb : flu    =    127.4 : 1.0\n",
      "           contains(flu) = True              flu : lungca =    120.8 : 1.0\n",
      "      contains(fibrosis) = True           cystic : flu    =    118.1 : 1.0\n",
      "     contains(influenza) = True              flu : cystic =    117.2 : 1.0\n",
      " contains(bronchiolitis) = True           acuteb : flu    =    116.4 : 1.0\n",
      "      contains(allergic) = True           asthma : lungca =    107.6 : 1.0\n",
      "        contains(asthma) = True           asthma : pneumo =     94.4 : 1.0\n",
      " contains(transmembrane) = True           cystic : COPD   =     77.0 : 1.0\n",
      "    contains(metastasis) = True           lungca : flu    =     76.0 : 1.0\n",
      "   contains(vaccination) = True              flu : lungca =     75.3 : 1.0\n",
      "   contains(conductance) = True           cystic : lungca =     73.6 : 1.0\n",
      "    contains(aeruginosa) = True           cystic : flu    =     73.3 : 1.0\n",
      "  contains(chemotherapy) = True           lungca : cystic =     69.2 : 1.0\n",
      "contains(adenocarcinoma) = True           lungca : acuteb =     62.2 : 1.0\n",
      "     contains(bacterial) = True           cystic : lungca =     61.7 : 1.0\n",
      "       contains(allergy) = True           asthma : lungca =     58.3 : 1.0\n",
      "    contains(metastatic) = True           lungca : acuteb =     57.0 : 1.0\n",
      "         contains(virus) = True              flu : lungca =     54.9 : 1.0\n",
      "   contains(obstructive) = True             COPD : lungca =     52.6 : 1.0\n",
      "      contains(pandemic) = True           pneumo : cystic =     48.7 : 1.0\n",
      "     contains(asthmatic) = True           asthma : pneumo =     43.5 : 1.0\n",
      "   contains(coronavirus) = True           pneumo : cystic =     43.0 : 1.0\n",
      "       contains(vaccine) = True              flu : cystic =     42.4 : 1.0\n",
      " contains(hemagglutinin) = True              flu : cystic =     41.3 : 1.0\n",
      "     contains(syncytial) = True           acuteb : cystic =     40.1 : 1.0\n",
      "     contains(apoptosis) = True           lungca : acuteb =     40.1 : 1.0\n",
      "    contains(checkpoint) = True           lungca : flu    =     38.9 : 1.0\n",
      "      contains(pathogen) = True           cystic : lungca =     38.7 : 1.0\n",
      "    contains(pathogenic) = True              flu : lungca =     38.5 : 1.0\n",
      "        contains(strain) = True              flu : COPD   =     38.4 : 1.0\n",
      "     contains(antiviral) = True              flu : lungca =     37.9 : 1.0\n",
      "       contains(channel) = True           cystic : lungca =     36.6 : 1.0\n",
      "  contains(radiotherapy) = True           lungca : flu    =     36.2 : 1.0\n",
      "  contains(transmission) = True              flu : acuteb =     35.5 : 1.0\n",
      "      contains(isolates) = True           cystic : lungca =     35.2 : 1.0\n",
      "     contains(regulator) = True           cystic : COPD   =     34.4 : 1.0\n",
      "      contains(outbreak) = True           pneumo : lungca =     34.3 : 1.0\n",
      "     contains(carcinoma) = True           lungca : acuteb =     34.2 : 1.0\n",
      "    contains(eosinophil) = True           asthma : lungca =     33.7 : 1.0\n"
     ]
    }
   ],
   "source": [
    "classifier_nb.show_most_informative_features(40)"
   ]
  },
  {
   "cell_type": "code",
   "execution_count": null,
   "metadata": {},
   "outputs": [],
   "source": []
  }
 ],
 "metadata": {
  "kernelspec": {
   "display_name": "Python 3",
   "language": "python",
   "name": "python3"
  },
  "language_info": {
   "codemirror_mode": {
    "name": "ipython",
    "version": 3
   },
   "file_extension": ".py",
   "mimetype": "text/x-python",
   "name": "python",
   "nbconvert_exporter": "python",
   "pygments_lexer": "ipython3",
   "version": "3.7.3"
  }
 },
 "nbformat": 4,
 "nbformat_minor": 2
}
