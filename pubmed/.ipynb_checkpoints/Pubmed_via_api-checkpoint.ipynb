{
 "cells": [
  {
   "cell_type": "markdown",
   "metadata": {},
   "source": [
    "## Imports and constant inits"
   ]
  },
  {
   "cell_type": "code",
   "execution_count": 1,
   "metadata": {},
   "outputs": [],
   "source": [
    "import urllib\n",
    "import requests\n",
    "from bs4 import BeautifulSoup"
   ]
  },
  {
   "cell_type": "code",
   "execution_count": 2,
   "metadata": {},
   "outputs": [],
   "source": [
    "# desktop user-agent\n",
    "USER_AGENT = \"Mozilla/5.0 (Windows NT 10.0; Win64; x64) AppleWebKit/537.36 (KHTML, like Gecko) Chrome/81.0.4044.129 Safari/537.36\"\n",
    "# mobile user-agent\n",
    "MOBILE_USER_AGENT = \"Mozilla/5.0 (Linux; Android 7.0; SM-G930V Build/NRD90M) AppleWebKit/537.36 (KHTML, like Gecko) Chrome/59.0.3071.125 Mobile Safari/537.36\""
   ]
  },
  {
   "cell_type": "code",
   "execution_count": 16,
   "metadata": {},
   "outputs": [],
   "source": [
    "headers = {\"user-agent\" : USER_AGENT}\n",
    "base_url_search = 'https://eutils.ncbi.nlm.nih.gov/entrez/eutils/esearch.fcgi'\n",
    "base_url_fetch = 'https://eutils.ncbi.nlm.nih.gov/entrez/eutils/efetch.fcgi'\n",
    "db = 'pubmed'\n",
    "term='asthma'\n",
    "terms = ['cystic fibrosis', 'acute bronchitis', 'asthma', 'lung cancer', 'COPD', 'flu', 'pneumonia']"
   ]
  },
  {
   "cell_type": "markdown",
   "metadata": {},
   "source": [
    "# Demo"
   ]
  },
  {
   "cell_type": "markdown",
   "metadata": {},
   "source": [
    "## Search query"
   ]
  },
  {
   "cell_type": "code",
   "execution_count": 4,
   "metadata": {},
   "outputs": [],
   "source": [
    "search_query = base_url_search + f'?db={db}&term={term}&WebEnv=<webenv string>&usehistory=y'"
   ]
  },
  {
   "cell_type": "code",
   "execution_count": null,
   "metadata": {},
   "outputs": [],
   "source": [
    "search_response = requests.get(search_query, headers=headers)"
   ]
  },
  {
   "cell_type": "code",
   "execution_count": null,
   "metadata": {},
   "outputs": [],
   "source": [
    "search_soup = BeautifulSoup(search_response.content, 'xml')"
   ]
  },
  {
   "cell_type": "code",
   "execution_count": 5,
   "metadata": {},
   "outputs": [],
   "source": [
    "WebEnv = search_soup.find('WebEnv').get_text()\n",
    "QueryKey = search_soup.find('QueryKey').get_text()\n",
    "WebEnv, QueryKey"
   ]
  },
  {
   "cell_type": "markdown",
   "metadata": {},
   "source": [
    "## Fetch query"
   ]
  },
  {
   "cell_type": "code",
   "execution_count": 11,
   "metadata": {
    "scrolled": true
   },
   "outputs": [],
   "source": [
    "fetch_query = base_url_fetch + f'?db={db}&query_key={QueryKey}&WebEnv={WebEnv}&retmax=10&retmode=XML&rettype=Abstract'"
   ]
  },
  {
   "cell_type": "code",
   "execution_count": 12,
   "metadata": {},
   "outputs": [],
   "source": [
    "query_response = requests.get(fetch_query, headers=headers)"
   ]
  },
  {
   "cell_type": "code",
   "execution_count": 13,
   "metadata": {},
   "outputs": [],
   "source": [
    "atricles = BeautifulSoup(query_response.content, 'xml')"
   ]
  },
  {
   "cell_type": "code",
   "execution_count": 23,
   "metadata": {},
   "outputs": [],
   "source": [
    "with open(\"./api_data/asthma_articles.xml\", \"wb\") as file:\n",
    "    file.write(atricles.prettify().encode())"
   ]
  },
  {
   "cell_type": "markdown",
   "metadata": {},
   "source": [
    "## Demodata extraction"
   ]
  },
  {
   "cell_type": "code",
   "execution_count": 15,
   "metadata": {},
   "outputs": [],
   "source": [
    "atricle1 = atricles.find_all('PubmedArticle')[0]"
   ]
  },
  {
   "cell_type": "markdown",
   "metadata": {},
   "source": [
    "### Title"
   ]
  },
  {
   "cell_type": "code",
   "execution_count": 16,
   "metadata": {
    "scrolled": true
   },
   "outputs": [
    {
     "data": {
      "text/plain": [
       "'Co-presentation of pulmonary arteriovenous malformation (PAVM) and multifocal benign metastasizing leiomyoma (BML) of lungs: Diagnostic dilemma and successful endovascular treatment.'"
      ]
     },
     "execution_count": 16,
     "metadata": {},
     "output_type": "execute_result"
    }
   ],
   "source": [
    "atricle1_title = atricle1.find(\"ArticleTitle\").get_text()\n",
    "atricle1_title"
   ]
  },
  {
   "cell_type": "markdown",
   "metadata": {},
   "source": [
    "### Abstract"
   ]
  },
  {
   "cell_type": "code",
   "execution_count": 17,
   "metadata": {
    "scrolled": false
   },
   "outputs": [
    {
     "data": {
      "text/plain": [
       "\"\\nA 50-year-old female with a 20-year history of multifocal pulmonary benign metastasizing leiomyoma (BML), and asthma presented with subacute worsening of chronic dyspnea. A contrast-enhanced computerized tomography of the chest showed a single 1.4\\xa0×\\xa01.5-cm contrast-enhancing mass in the right lower lobe among numerous non-enhancing bilateral pulmonary BML lesions. Pulmonary angiogram was not performed at that time due to clinical improvement. Four years later, the patient presented with refractory subacute worsening of her chronic dyspnea and was referred for embolization of the pulmonary arteriovenous malformation (PAVM). Two feeder arteries to the PAVM were embolized; each with a 6-mm Amplatzer-IV vascular plug and a 4-mm Nester coil. Follow-up angiograms demonstrated no flow through the PAVM. The patient's dyspnea resolved and she remained asymptomatic at one-year follow-up.\\nCopyright © 2020 Elsevier Inc. All rights reserved.\\n\""
      ]
     },
     "execution_count": 17,
     "metadata": {},
     "output_type": "execute_result"
    }
   ],
   "source": [
    "atricle1_abstract = atricle1.find(\"Abstract\").get_text()\n",
    "atricle1_abstract"
   ]
  },
  {
   "cell_type": "markdown",
   "metadata": {},
   "source": [
    "### Keywords"
   ]
  },
  {
   "cell_type": "code",
   "execution_count": 18,
   "metadata": {
    "scrolled": true
   },
   "outputs": [
    {
     "data": {
      "text/plain": [
       "['Benign metastasizing leiomyoma',\n",
       " 'Embolization',\n",
       " 'Pulmonary arteriovenous malformation']"
      ]
     },
     "execution_count": 18,
     "metadata": {},
     "output_type": "execute_result"
    }
   ],
   "source": [
    "atricle1_keyword_list = atricle1.find(\"KeywordList\").get_text()\n",
    "keyword_list = atricle1_keyword_list.split('\\n')\n",
    "keyword_list = [keyword for keyword in keyword_list if keyword != '']\n",
    "keyword_list"
   ]
  },
  {
   "cell_type": "markdown",
   "metadata": {},
   "source": [
    "# Automatized fetch"
   ]
  },
  {
   "cell_type": "code",
   "execution_count": 15,
   "metadata": {},
   "outputs": [],
   "source": [
    "for term_iter in terms:\n",
    "    search_term = term_iter.replace(' ', '+')\n",
    "    \n",
    "    #Search for article ids\n",
    "    search_query = base_url_search + f'?db={db}&term={search_term}&WebEnv=<webenv string>&usehistory=y'\n",
    "    search_response = requests.get(search_query, headers=headers)\n",
    "    search_soup = BeautifulSoup(search_response.content, 'xml')\n",
    "    \n",
    "    #Extract fetch infos\n",
    "    WebEnv = search_soup.find('WebEnv').get_text()\n",
    "    QueryKey = search_soup.find('QueryKey').get_text()\n",
    "    \n",
    "    #Fetch articles\n",
    "    fetch_query = base_url_fetch + f'?db={db}&query_key={QueryKey}&WebEnv={WebEnv}&retmax=1000&retmode=XML&rettype=Abstract'\n",
    "    query_response = requests.get(fetch_query, headers=headers)\n",
    "    atricles = BeautifulSoup(query_response.content, 'xml')\n",
    "    \n",
    "    #Save fetch result\n",
    "    file_name = term_iter.replace(' ', '')\n",
    "    with open(f\"./api_data/{file_name}_articles.xml\", \"wb\") as file:\n",
    "        file.write(atricles.prettify().encode())"
   ]
  }
 ],
 "metadata": {
  "kernelspec": {
   "display_name": "Python 3",
   "language": "python",
   "name": "python3"
  },
  "language_info": {
   "codemirror_mode": {
    "name": "ipython",
    "version": 3
   },
   "file_extension": ".py",
   "mimetype": "text/x-python",
   "name": "python",
   "nbconvert_exporter": "python",
   "pygments_lexer": "ipython3",
   "version": "3.7.3"
  }
 },
 "nbformat": 4,
 "nbformat_minor": 2
}
