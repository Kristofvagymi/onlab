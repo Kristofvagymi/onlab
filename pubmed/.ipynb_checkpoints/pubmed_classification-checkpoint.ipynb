{
 "cells": [
  {
   "cell_type": "markdown",
   "metadata": {},
   "source": [
    "## Imports"
   ]
  },
  {
   "cell_type": "code",
   "execution_count": 35,
   "metadata": {},
   "outputs": [],
   "source": [
    "import urllib\n",
    "import requests\n",
    "from bs4 import BeautifulSoup\n",
    "import re\n",
    "import os\n",
    "import pandas as pd\n",
    "\n",
    "from sklearn.feature_extraction.text import  CountVectorizer, TfidfVectorizer\n",
    "\n",
    "from sklearn import naive_bayes, metrics, model_selection, linear_model"
   ]
  },
  {
   "cell_type": "markdown",
   "metadata": {},
   "source": [
    "### Init 'global' variables"
   ]
  },
  {
   "cell_type": "code",
   "execution_count": 55,
   "metadata": {},
   "outputs": [],
   "source": [
    "#ignore_dir = ['IT_company']\n",
    "ignore_dir = []\n",
    "\n",
    "data_dir = './data'\n",
    "routes = os.listdir(data_dir)\n",
    "routes = list(set(routes)-set(ignore_dir))\n",
    "\n",
    "categories = routes\n",
    "\n",
    "predict_from = {'abstract': True, 'title': False, 'full_page': False}\n",
    "\n",
    "label_cat_dict = dict(zip(routes, range(0, len(routes))))"
   ]
  },
  {
   "cell_type": "markdown",
   "metadata": {},
   "source": [
    "### Create dataframe from webpage files"
   ]
  },
  {
   "cell_type": "code",
   "execution_count": 58,
   "metadata": {},
   "outputs": [],
   "source": [
    "def create_df(route, label):\n",
    "    pages_df = pd.DataFrame(columns=['document', 'category'])\n",
    "    files = os.listdir(f'{data_dir}/'+route)\n",
    "    for file, i in zip(files, range(0, len(files))):\n",
    "        f = open(f'{data_dir}/'+route + \"/\" + file, \"rt\", errors='ignore')\n",
    "        \n",
    "        page = f.read()\n",
    "        f.close()\n",
    "        soup_page = BeautifulSoup(page, \"html.parser\")\n",
    "        page_content = ''\n",
    "        if predict_from['full_page']:\n",
    "            page_content = soup_page.get_text()\n",
    "        elif predict_from['title']:\n",
    "            page_content = soup_page.find_all('h1', class_='heading-title')[0].get_text()\n",
    "        elif predict_from['abstract']:\n",
    "            abstract = soup_page.find_all('div', class_='abstract-content selected')\n",
    "            if abstract:\n",
    "                page_content = abstract[0].get_text()\n",
    "            \n",
    "        cleaned_page_content = re.sub(\"\\W\",\" \",page_content)\n",
    "        cleaned_page_content = re.sub(r\" +\",\" \",cleaned_page_content)\n",
    "        pages_df.loc[i] = (cleaned_page_content, label)\n",
    "    return pages_df"
   ]
  },
  {
   "cell_type": "markdown",
   "metadata": {},
   "source": [
    "### Read the data from differenct directories"
   ]
  },
  {
   "cell_type": "code",
   "execution_count": 59,
   "metadata": {
    "scrolled": true
   },
   "outputs": [
    {
     "name": "stdout",
     "output_type": "stream",
     "text": [
      "chemistry -ready\n",
      "disease -ready\n",
      "food -ready\n"
     ]
    }
   ],
   "source": [
    "all_pages = pd.DataFrame(columns=['document', 'category', 'label'])\n",
    "\n",
    "train_x = pd.Series()\n",
    "valid_x = pd.Series()\n",
    "train_y = pd.Series()\n",
    "valid_y = pd.Series()\n",
    "\n",
    "for route, category in zip(routes, categories):\n",
    "    label = label_cat_dict[category]\n",
    "    pages_df = create_df(route, category)\n",
    "    pages_df['label'] =label\n",
    "    all_pages = all_pages.append(pages_df, ignore_index=True)\n",
    "    \n",
    "    train_x_, valid_x_, train_y_, valid_y_ = model_selection.train_test_split(pages_df['document'], pages_df['label'], test_size =  0.15)\n",
    "    \n",
    "    train_x = train_x.append(train_x_, ignore_index=True)\n",
    "    valid_x = valid_x.append(valid_x_, ignore_index=True)\n",
    "    train_y = train_y.append(train_y_, ignore_index=True)\n",
    "    valid_y = valid_y.append(valid_y_, ignore_index=True)\n",
    "    print(category, \"-ready\")"
   ]
  },
  {
   "cell_type": "markdown",
   "metadata": {},
   "source": [
    "### Word Count vectorizer"
   ]
  },
  {
   "cell_type": "code",
   "execution_count": 60,
   "metadata": {
    "scrolled": false
   },
   "outputs": [
    {
     "data": {
      "text/plain": [
       "CountVectorizer(analyzer='word', binary=False, decode_error='strict',\n",
       "        dtype=<class 'numpy.int64'>, encoding='utf-8', input='content',\n",
       "        lowercase=True, max_df=1.0, max_features=None, min_df=1,\n",
       "        ngram_range=(1, 1), preprocessor=None, stop_words=None,\n",
       "        strip_accents=None, token_pattern='\\\\w{1,}', tokenizer=None,\n",
       "        vocabulary=None)"
      ]
     },
     "execution_count": 60,
     "metadata": {},
     "output_type": "execute_result"
    }
   ],
   "source": [
    "count_vect = CountVectorizer(analyzer='word', token_pattern=r'\\w{1,}')\n",
    "count_vect.fit(all_pages['document'])"
   ]
  },
  {
   "cell_type": "code",
   "execution_count": 61,
   "metadata": {},
   "outputs": [],
   "source": [
    "xtrain_count = count_vect.transform(train_x)\n",
    "xvalid_count = count_vect.transform(valid_x)"
   ]
  },
  {
   "cell_type": "markdown",
   "metadata": {},
   "source": [
    "### TF-IDF vectorizer"
   ]
  },
  {
   "cell_type": "code",
   "execution_count": 62,
   "metadata": {},
   "outputs": [],
   "source": [
    "tfidf_vect = TfidfVectorizer(analyzer='word', token_pattern=r'\\w{1,}', max_features=5000)\n",
    "tfidf_vect.fit(all_pages['document'])\n",
    "xtrain_tfidf =  tfidf_vect.transform(train_x)\n",
    "xvalid_tfidf =  tfidf_vect.transform(valid_x)"
   ]
  },
  {
   "cell_type": "markdown",
   "metadata": {},
   "source": [
    "### Naiv Bayes - word count"
   ]
  },
  {
   "cell_type": "code",
   "execution_count": 63,
   "metadata": {},
   "outputs": [
    {
     "data": {
      "text/plain": [
       "0.9185185185185185"
      ]
     },
     "execution_count": 63,
     "metadata": {},
     "output_type": "execute_result"
    }
   ],
   "source": [
    "classifier = naive_bayes.MultinomialNB()\n",
    "\n",
    "classifier.fit(xtrain_count, train_y)\n",
    "\n",
    "predictions = classifier.predict(xvalid_count)\n",
    "\n",
    "metrics.accuracy_score(predictions, valid_y)"
   ]
  },
  {
   "cell_type": "markdown",
   "metadata": {},
   "source": [
    "### Naiv Bayes - TF-IDF"
   ]
  },
  {
   "cell_type": "code",
   "execution_count": 64,
   "metadata": {},
   "outputs": [
    {
     "data": {
      "text/plain": [
       "0.9185185185185185"
      ]
     },
     "execution_count": 64,
     "metadata": {},
     "output_type": "execute_result"
    }
   ],
   "source": [
    "classifier = naive_bayes.MultinomialNB()\n",
    "\n",
    "classifier.fit(xtrain_tfidf, train_y)\n",
    "\n",
    "predictions = classifier.predict(xvalid_tfidf)\n",
    "\n",
    "metrics.accuracy_score(predictions, valid_y)"
   ]
  },
  {
   "cell_type": "markdown",
   "metadata": {},
   "source": [
    "### Linear - word count"
   ]
  },
  {
   "cell_type": "code",
   "execution_count": 65,
   "metadata": {},
   "outputs": [
    {
     "data": {
      "text/plain": [
       "1.0"
      ]
     },
     "execution_count": 65,
     "metadata": {},
     "output_type": "execute_result"
    }
   ],
   "source": [
    "classifier = linear_model.LogisticRegression(solver='liblinear',multi_class='auto')\n",
    "\n",
    "classifier.fit(xtrain_count, train_y)\n",
    "\n",
    "predictions = classifier.predict(xvalid_count)\n",
    "\n",
    "metrics.accuracy_score(predictions, valid_y)"
   ]
  },
  {
   "cell_type": "markdown",
   "metadata": {},
   "source": [
    "### Linear - TF-IDF"
   ]
  },
  {
   "cell_type": "code",
   "execution_count": 66,
   "metadata": {},
   "outputs": [
    {
     "name": "stderr",
     "output_type": "stream",
     "text": [
      "C:\\Users\\ivani\\Anaconda3\\lib\\site-packages\\sklearn\\linear_model\\logistic.py:460: FutureWarning: Default multi_class will be changed to 'auto' in 0.22. Specify the multi_class option to silence this warning.\n",
      "  \"this warning.\", FutureWarning)\n"
     ]
    },
    {
     "data": {
      "text/plain": [
       "1.0"
      ]
     },
     "execution_count": 66,
     "metadata": {},
     "output_type": "execute_result"
    }
   ],
   "source": [
    "classifier = linear_model.LogisticRegression(solver='lbfgs')\n",
    "\n",
    "classifier.fit(xtrain_tfidf, train_y)\n",
    "\n",
    "predictions = classifier.predict(xvalid_tfidf)\n",
    "\n",
    "metrics.accuracy_score(predictions, valid_y)"
   ]
  },
  {
   "cell_type": "markdown",
   "metadata": {},
   "source": [
    "### TLDR"
   ]
  },
  {
   "cell_type": "code",
   "execution_count": 67,
   "metadata": {},
   "outputs": [
    {
     "name": "stderr",
     "output_type": "stream",
     "text": [
      "[nltk_data] Downloading package stopwords to\n",
      "[nltk_data]     C:\\Users\\ivani\\AppData\\Roaming\\nltk_data...\n",
      "[nltk_data]   Package stopwords is already up-to-date!\n"
     ]
    }
   ],
   "source": [
    "import nltk\n",
    "from nltk.corpus import stopwords\n",
    "nltk.download('stopwords')\n",
    "import time\n",
    "import random"
   ]
  },
  {
   "cell_type": "code",
   "execution_count": 68,
   "metadata": {},
   "outputs": [
    {
     "name": "stdout",
     "output_type": "stream",
     "text": [
      "890 expected finish: Thu May 21 21:53:35 2020\r"
     ]
    }
   ],
   "source": [
    "word_dict = {}\n",
    "start = time.time()\n",
    "for index, row in all_pages.iterrows():\n",
    "    words = re.split(' ', row['document'])\n",
    "    \n",
    "    for word in words:\n",
    "        word = word.lower()\n",
    "        if word not in set(stopwords.words('english')) and len(word) > 2:\n",
    "            if word not in word_dict:\n",
    "                word_dict[word] = 1\n",
    "            else:\n",
    "                word_dict[word] = word_dict[word] + 1\n",
    "    if index % 10 == 0:\n",
    "        now = time.time()\n",
    "        percent_ready = (index / all_pages.shape[0]) + 0.0000001\n",
    "        print(index,'expected finish:', time.ctime(start + ((now-start) / percent_ready)), end='\\r')"
   ]
  },
  {
   "cell_type": "code",
   "execution_count": 69,
   "metadata": {},
   "outputs": [],
   "source": [
    "word_dict_list = sorted(word_dict.items(), key=lambda x: x[1], reverse = True)\n",
    "words_shrinked = word_dict_list[0:6000]\n",
    "word_list = [w for (w,n) in words_shrinked]"
   ]
  },
  {
   "cell_type": "code",
   "execution_count": 70,
   "metadata": {},
   "outputs": [],
   "source": [
    "def document_features(document):\n",
    "    document_words = set(re.split(' ',document))\n",
    "    features = {}\n",
    "    for word in word_list:\n",
    "        features['contains({})'.format(word)] = (word in document_words)\n",
    "    return features"
   ]
  },
  {
   "cell_type": "code",
   "execution_count": 71,
   "metadata": {},
   "outputs": [],
   "source": [
    "train_set = []\n",
    "for ind, row in all_pages.iterrows():\n",
    "    feature = (document_features(row['document']), row['category'])\n",
    "    train_set.append(feature)\n",
    "random.shuffle(train_set)"
   ]
  },
  {
   "cell_type": "code",
   "execution_count": 72,
   "metadata": {},
   "outputs": [],
   "source": [
    "classifier_nb = nltk.NaiveBayesClassifier.train(train_set[0:400])"
   ]
  },
  {
   "cell_type": "code",
   "execution_count": 73,
   "metadata": {
    "scrolled": true
   },
   "outputs": [
    {
     "data": {
      "text/plain": [
       "0.968"
      ]
     },
     "execution_count": 73,
     "metadata": {},
     "output_type": "execute_result"
    }
   ],
   "source": [
    "nltk.classify.accuracy(classifier_nb, train_set[400:len(train_set)])"
   ]
  },
  {
   "cell_type": "code",
   "execution_count": 74,
   "metadata": {},
   "outputs": [
    {
     "name": "stdout",
     "output_type": "stream",
     "text": [
      "Most Informative Features\n",
      "           contains(gas) = True           chemis : diseas =     33.7 : 1.0\n",
      "    contains(expression) = True             food : chemis =     33.0 : 1.0\n",
      "        contains(tomato) = True             food : chemis =     30.8 : 1.0\n",
      "     contains(emissions) = True           chemis : food   =     29.7 : 1.0\n",
      "          contains(soil) = True           chemis : diseas =     26.3 : 1.0\n",
      "        contains(plants) = True             food : diseas =     23.4 : 1.0\n",
      "         contains(total) = True             food : diseas =     21.1 : 1.0\n",
      "       contains(content) = True             food : diseas =     20.4 : 1.0\n",
      "   contains(temperature) = True           chemis : diseas =     20.3 : 1.0\n",
      " contains(concentration) = True           chemis : diseas =     19.0 : 1.0\n",
      "        contains(genome) = True             food : chemis =     18.9 : 1.0\n",
      "          contains(acid) = True             food : diseas =     17.4 : 1.0\n",
      "      contains(syndrome) = True           diseas : chemis =     17.0 : 1.0\n",
      "  contains(accumulation) = True             food : diseas =     15.9 : 1.0\n",
      "   contains(respiratory) = True           diseas : food   =     15.3 : 1.0\n",
      "        contains(fruits) = True             food : chemis =     15.2 : 1.0\n",
      "   contains(application) = True           chemis : diseas =     15.0 : 1.0\n",
      "         contains(plant) = True             food : diseas =     13.8 : 1.0\n",
      "         contains(acute) = True           diseas : chemis =     13.7 : 1.0\n",
      "         contains(soils) = True           chemis : food   =     13.5 : 1.0\n",
      "        contains(carbon) = True           chemis : food   =     13.5 : 1.0\n",
      "       contains(treated) = True             food : diseas =     12.2 : 1.0\n",
      "      contains(measured) = True           chemis : diseas =     12.2 : 1.0\n",
      "          contains(flux) = True           chemis : food   =     11.7 : 1.0\n",
      "       contains(highest) = True             food : diseas =     11.5 : 1.0\n",
      "         contains(water) = True           chemis : diseas =     11.4 : 1.0\n",
      "          contains(gene) = True             food : chemis =     11.3 : 1.0\n",
      "        contains(global) = True           chemis : food   =     11.1 : 1.0\n",
      "       contains(quality) = True             food : diseas =     10.5 : 1.0\n",
      "   contains(therapeutic) = True           diseas : chemis =     10.3 : 1.0\n",
      "        contains(method) = True           chemis : diseas =     10.3 : 1.0\n",
      "        contains(values) = True           chemis : diseas =     10.3 : 1.0\n",
      "           contains(low) = True           chemis : diseas =     10.1 : 1.0\n",
      "         contains(yield) = True             food : diseas =     10.0 : 1.0\n",
      "     contains(cultivars) = True             food : chemis =     10.0 : 1.0\n",
      "        contains(humans) = True           diseas : food   =      9.9 : 1.0\n",
      "         contains(genes) = True             food : chemis =      9.8 : 1.0\n",
      "        contains(levels) = True             food : diseas =      9.7 : 1.0\n",
      "          contains(risk) = True           diseas : chemis =      9.7 : 1.0\n",
      "     contains(oxidation) = True           chemis : diseas =      9.7 : 1.0\n",
      "        contains(stress) = True             food : chemis =      9.6 : 1.0\n",
      "      contains(contents) = True             food : diseas =      9.3 : 1.0\n",
      "         contains(roles) = True             food : chemis =      9.3 : 1.0\n",
      "     contains(resistant) = True             food : diseas =      9.3 : 1.0\n",
      "    contains(greenhouse) = True           chemis : food   =      9.2 : 1.0\n",
      "     contains(decreased) = True           chemis : diseas =      9.0 : 1.0\n",
      "       contains(organic) = True           chemis : diseas =      9.0 : 1.0\n",
      "           contains(air) = True           chemis : diseas =      9.0 : 1.0\n",
      "  contains(contribution) = True           chemis : diseas =      9.0 : 1.0\n",
      "    contains(variations) = True           chemis : diseas =      9.0 : 1.0\n",
      "       contains(sources) = True           chemis : food   =      8.8 : 1.0\n",
      "  contains(investigated) = True             food : diseas =      8.7 : 1.0\n",
      "    contains(determined) = True             food : diseas =      8.5 : 1.0\n",
      "  contains(biosynthesis) = True             food : chemis =      8.5 : 1.0\n",
      "     contains(influence) = True           chemis : diseas =      8.3 : 1.0\n",
      "    contains(difference) = True           chemis : diseas =      8.3 : 1.0\n",
      "          contains(host) = True           diseas : chemis =      8.3 : 1.0\n",
      "   contains(experiments) = True           chemis : diseas =      8.3 : 1.0\n",
      "        contains(annual) = True           chemis : diseas =      8.3 : 1.0\n",
      "        contains(severe) = True           diseas : chemis =      8.2 : 1.0\n",
      "         contains(oxide) = True           chemis : food   =      8.1 : 1.0\n",
      "          contains(size) = True             food : diseas =      7.8 : 1.0\n",
      "    contains(regulation) = True             food : diseas =      7.8 : 1.0\n",
      "     contains(genotypes) = True             food : chemis =      7.8 : 1.0\n",
      "      contains(symptoms) = True             food : chemis =      7.8 : 1.0\n",
      "       contains(tissues) = True             food : chemis =      7.8 : 1.0\n",
      "    contains(cultivated) = True             food : chemis =      7.8 : 1.0\n",
      "     contains(microbial) = True           chemis : food   =      7.7 : 1.0\n",
      "      contains(survival) = True           diseas : chemis =      7.7 : 1.0\n",
      "        contains(energy) = True           chemis : food   =      7.5 : 1.0\n",
      "       contains(surface) = True           chemis : food   =      7.5 : 1.0\n",
      "        contains(review) = True           diseas : chemis =      7.4 : 1.0\n",
      "        contains(change) = True           chemis : diseas =      7.4 : 1.0\n",
      "         contains(roots) = True             food : chemis =      7.3 : 1.0\n",
      "contains(concentrations) = True           chemis : diseas =      7.3 : 1.0\n",
      "          contains(food) = True           diseas : chemis =      7.3 : 1.0\n",
      "         contains(cells) = True           diseas : chemis =      7.3 : 1.0\n",
      "   contains(development) = True             food : chemis =      7.0 : 1.0\n",
      "    contains(regulating) = True             food : chemis =      7.0 : 1.0\n",
      "  contains(phylogenetic) = True             food : chemis =      7.0 : 1.0\n",
      "         contains(grown) = True             food : diseas =      7.0 : 1.0\n",
      "contains(identification) = True             food : chemis =      7.0 : 1.0\n",
      "     contains(exhibited) = True             food : diseas =      7.0 : 1.0\n",
      "     contains(signaling) = True             food : chemis =      7.0 : 1.0\n",
      "     contains(sequences) = True             food : diseas =      7.0 : 1.0\n",
      "      contains(profiles) = True             food : diseas =      7.0 : 1.0\n",
      "       contains(abiotic) = True             food : chemis =      7.0 : 1.0\n",
      "     contains(regulated) = True             food : diseas =      7.0 : 1.0\n",
      "        contains(oxygen) = True           chemis : diseas =      7.0 : 1.0\n",
      "          contains(test) = True           chemis : diseas =      7.0 : 1.0\n",
      "        contains(tumors) = True           diseas : chemis =      7.0 : 1.0\n",
      "   contains(consumption) = True           chemis : diseas =      7.0 : 1.0\n",
      "     contains(reduction) = True           chemis : diseas =      7.0 : 1.0\n",
      "    contains(prevention) = True           diseas : food   =      6.9 : 1.0\n",
      "    contains(infections) = True           diseas : food   =      6.9 : 1.0\n",
      "     contains(therapies) = True           diseas : food   =      6.9 : 1.0\n",
      "      contains(proteins) = True             food : chemis =      6.9 : 1.0\n",
      "       contains(protein) = True             food : chemis =      6.8 : 1.0\n",
      "      contains(analysis) = True             food : diseas =      6.8 : 1.0\n",
      "      contains(activity) = True             food : diseas =      6.5 : 1.0\n"
     ]
    }
   ],
   "source": [
    "classifier_nb.show_most_informative_features(100)"
   ]
  },
  {
   "cell_type": "code",
   "execution_count": null,
   "metadata": {},
   "outputs": [],
   "source": []
  }
 ],
 "metadata": {
  "kernelspec": {
   "display_name": "Python 3",
   "language": "python",
   "name": "python3"
  },
  "language_info": {
   "codemirror_mode": {
    "name": "ipython",
    "version": 3
   },
   "file_extension": ".py",
   "mimetype": "text/x-python",
   "name": "python",
   "nbconvert_exporter": "python",
   "pygments_lexer": "ipython3",
   "version": "3.7.3"
  }
 },
 "nbformat": 4,
 "nbformat_minor": 2
}
